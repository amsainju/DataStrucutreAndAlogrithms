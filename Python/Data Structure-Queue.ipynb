{
 "cells": [
  {
   "cell_type": "markdown",
   "metadata": {},
   "source": [
    "# Queue"
   ]
  },
  {
   "cell_type": "code",
   "execution_count": 26,
   "metadata": {},
   "outputs": [],
   "source": [
    "class Node:\n",
    "    def __init__(self,data):\n",
    "        self.data= data\n",
    "        self.next= None\n",
    "class Queue:\n",
    "    def __init__(self):\n",
    "        self.front = None\n",
    "        self.rear = None\n",
    "    \n",
    "    def empty(self):\n",
    "        return self.front==None \n",
    "        \n",
    "    def enqueue(self,value):\n",
    "        temp = Node(value)\n",
    "        if self.rear ==None:\n",
    "            self.front=self.rear = temp\n",
    "            return\n",
    "        self.rear.next = temp\n",
    "        self.rear =temp\n",
    "    \n",
    "    def dequeue(self):\n",
    "        if self.empty():\n",
    "            return\n",
    "        value = self.front.data\n",
    "        self.front = self.front.next\n",
    "        if (self.front==None):\n",
    "            self.rear=None\n",
    "        return value\n",
    "        "
   ]
  },
  {
   "cell_type": "code",
   "execution_count": 27,
   "metadata": {},
   "outputs": [
    {
     "name": "stdout",
     "output_type": "stream",
     "text": [
      "5\n",
      "6\n",
      "None\n",
      "8\n",
      "15\n"
     ]
    }
   ],
   "source": [
    "q = Queue()\n",
    "q.enqueue(5)\n",
    "q.enqueue(6)\n",
    "print(q.dequeue())\n",
    "print(q.dequeue())\n",
    "print(q.dequeue())\n",
    "q.enqueue(8)\n",
    "q.enqueue(15)\n",
    "print(q.dequeue())\n",
    "print(q.dequeue())"
   ]
  },
  {
   "cell_type": "code",
   "execution_count": 30,
   "metadata": {},
   "outputs": [
    {
     "name": "stdout",
     "output_type": "stream",
     "text": [
      "5\n",
      "6\n",
      "8\n",
      "15\n"
     ]
    }
   ],
   "source": [
    "from collections import deque\n",
    "q = deque()\n",
    "q.append(5)\n",
    "q.append(6)\n",
    "\n",
    "print(q.popleft())\n",
    "print(q.popleft())\n",
    "q.append(8)\n",
    "q.append(15)\n",
    "print(q.popleft())\n",
    "print(q.popleft())\n"
   ]
  },
  {
   "cell_type": "code",
   "execution_count": null,
   "metadata": {},
   "outputs": [],
   "source": []
  }
 ],
 "metadata": {
  "kernelspec": {
   "display_name": "Python 3",
   "language": "python",
   "name": "python3"
  },
  "language_info": {
   "codemirror_mode": {
    "name": "ipython",
    "version": 3
   },
   "file_extension": ".py",
   "mimetype": "text/x-python",
   "name": "python",
   "nbconvert_exporter": "python",
   "pygments_lexer": "ipython3",
   "version": "3.5.5"
  }
 },
 "nbformat": 4,
 "nbformat_minor": 2
}
