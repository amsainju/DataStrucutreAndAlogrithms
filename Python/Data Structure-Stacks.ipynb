{
 "cells": [
  {
   "cell_type": "markdown",
   "metadata": {},
   "source": [
    "# Stack"
   ]
  },
  {
   "cell_type": "code",
   "execution_count": null,
   "metadata": {},
   "outputs": [],
   "source": [
    "# Unfortunately, creating stack with list has a few shortcomings. \n",
    "# The biggest issue is that it can run into speed issue as it grows.\n",
    "# The items in list are stored next to each other in memory,\n",
    "# if the stack grows bigger than the block of memory that currently hold it,\n",
    "# then Python needs to do some memory allocations. This can lead to some append() \n",
    "# calls taking much longer than other ones.\n",
    "class Stack:\n",
    "    def __init__(self):\n",
    "        self.data = []\n",
    "    \n",
    "    def push(self,value):\n",
    "        self.data.append(value)\n",
    "        \n",
    "    def top(self):\n",
    "        if(self.empty()==False):\n",
    "            return self.data[len(self.data)-1]\n",
    "        else:\n",
    "            print(\"Stack is Empty!!\")\n",
    "    \n",
    "    def pop(self):\n",
    "        if(self.empty()==False):\n",
    "            return self.data.pop()\n",
    "        else:\n",
    "            print(\"Stack is Empty!!\")\n",
    "        \n",
    "    def empty(self):\n",
    "        return True if len(self.data)==0 else False"
   ]
  },
  {
   "cell_type": "code",
   "execution_count": 70,
   "metadata": {},
   "outputs": [
    {
     "name": "stdout",
     "output_type": "stream",
     "text": [
      "[1]\n",
      "1\n",
      "[]\n",
      "True\n",
      "Stack is Empty!!\n",
      "None\n",
      "[]\n",
      "Stack is Empty!!\n",
      "None\n"
     ]
    }
   ],
   "source": [
    "stack= Stack()\n",
    "stack.push(1)\n",
    "stack.push(2)\n",
    "stack.push(3)\n",
    "print(stack.data)\n",
    "print(stack.pop())\n",
    "print(stack.data)\n",
    "print(stack.empty())\n",
    "print(stack.top())\n",
    "print(stack.data)\n",
    "print(stack.pop())\n"
   ]
  },
  {
   "cell_type": "code",
   "execution_count": 74,
   "metadata": {},
   "outputs": [
    {
     "name": "stdout",
     "output_type": "stream",
     "text": [
      "2\n",
      "1\n"
     ]
    }
   ],
   "source": [
    "# using collections.deque for stack \n",
    "#list-like container with fast appends and pops on either end\n",
    "#Deque is preferred over list in the cases where we need quicker \n",
    "#append and pop operations from both the ends of the container, \n",
    "#as deque provides an O(1) time complexity for append and pop operations \n",
    "#as compared to list which provides O(n) time complexity.\n",
    "from collections import deque\n",
    "\n",
    "stack = deque()\n",
    "\n",
    "stack.append(1)\n",
    "stack.append(2)\n",
    "print(stack.pop())\n",
    "print(stack.pop())\n"
   ]
  },
  {
   "cell_type": "code",
   "execution_count": null,
   "metadata": {},
   "outputs": [],
   "source": []
  }
 ],
 "metadata": {
  "kernelspec": {
   "display_name": "Python 3",
   "language": "python",
   "name": "python3"
  },
  "language_info": {
   "codemirror_mode": {
    "name": "ipython",
    "version": 3
   },
   "file_extension": ".py",
   "mimetype": "text/x-python",
   "name": "python",
   "nbconvert_exporter": "python",
   "pygments_lexer": "ipython3",
   "version": "3.5.5"
  }
 },
 "nbformat": 4,
 "nbformat_minor": 2
}
